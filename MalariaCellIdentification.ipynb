{
  "nbformat": 4,
  "nbformat_minor": 0,
  "metadata": {
    "colab": {
      "name": "MalariaCellIdentification.ipynb",
      "version": "0.3.2",
      "provenance": [],
      "include_colab_link": true
    },
    "kernelspec": {
      "name": "python3",
      "display_name": "Python 3"
    },
    "accelerator": "GPU"
  },
  "cells": [
    {
      "cell_type": "markdown",
      "metadata": {
        "id": "view-in-github",
        "colab_type": "text"
      },
      "source": [
        "<a href=\"https://colab.research.google.com/github/sidsharma3/Free-Rice-Player/blob/master/MalariaCellIdentification.ipynb\" target=\"_parent\"><img src=\"https://colab.research.google.com/assets/colab-badge.svg\" alt=\"Open In Colab\"/></a>"
      ]
    },
    {
      "cell_type": "code",
      "metadata": {
        "id": "YnH-Fhl0jSWs",
        "colab_type": "code",
        "outputId": "e0355890-252d-48f1-9bd9-f71311e96906",
        "colab": {
          "base_uri": "https://localhost:8080/",
          "height": 51
        }
      },
      "source": [
        "from google.colab import drive\n",
        "drive.mount('/gdrive')\n",
        "%cd /gdrive"
      ],
      "execution_count": 13,
      "outputs": [
        {
          "output_type": "stream",
          "text": [
            "Drive already mounted at /gdrive; to attempt to forcibly remount, call drive.mount(\"/gdrive\", force_remount=True).\n",
            "/gdrive\n"
          ],
          "name": "stdout"
        }
      ]
    },
    {
      "cell_type": "code",
      "metadata": {
        "id": "_n6nrEq8nRDr",
        "colab_type": "code",
        "outputId": "fe11fc79-261a-43c2-8999-57f610f16158",
        "colab": {
          "base_uri": "https://localhost:8080/",
          "height": 125
        }
      },
      "source": [
        "parasitized_data = os.listdir('/gdrive/My Drive/Cell Data/positivetrain/')\n",
        "print(parasitized_data[:10]) #the output we get are the .png files\n",
        "\n",
        "uninfected_data = os.listdir('/gdrive/My Drive/Cell Data/negativetrain/')\n",
        "print('\\n')\n",
        "print(uninfected_data[:10])"
      ],
      "execution_count": 15,
      "outputs": [
        {
          "output_type": "stream",
          "text": [
            "['C33P1thinF_IMG_20150619_121229a_cell_177.png', 'C33P1thinF_IMG_20150619_121300a_cell_156.png', 'C33P1thinF_IMG_20150619_121229a_cell_179.png', 'C33P1thinF_IMG_20150619_121229a_cell_178.png', 'C33P1thinF_IMG_20150619_121411a_cell_189.png', 'C33P1thinF_IMG_20150619_121411a_cell_190.png', 'C33P1thinF_IMG_20150619_121435a_cell_173.png', 'C33P1thinF_IMG_20150619_121503a_cell_159.png', 'C33P1thinF_IMG_20150619_121503a_cell_158.png', 'C37BP2_thinF_IMG_20150620_131423a_cell_92.png']\n",
            "\n",
            "\n",
            "['C99P60ThinF_IMG_20150918_142128_cell_56.png', 'C99P60ThinF_IMG_20150918_142128_cell_53.png', 'C99P60ThinF_IMG_20150918_142128_cell_55.png', 'C99P60ThinF_IMG_20150918_142128_cell_52.png', 'C99P60ThinF_IMG_20150918_142128_cell_3.png', 'C99P60ThinF_IMG_20150918_142128_cell_47.png', 'C99P60ThinF_IMG_20150918_142128_cell_45.png', 'C99P60ThinF_IMG_20150918_142128_cell_15.png', 'C99P60ThinF_IMG_20150918_142128_cell_14.png', 'C99P60ThinF_IMG_20150918_142128_cell_11.png']\n"
          ],
          "name": "stdout"
        }
      ]
    },
    {
      "cell_type": "code",
      "metadata": {
        "id": "8PepV7yvoTAy",
        "colab_type": "code",
        "colab": {}
      },
      "source": [
        "trainingdata = []\n",
        "categories = [\"positivetrain\", \"negativetrain\"]\n",
        "\n",
        "for index in categories:\n",
        "  for img in os.listdir(\"/gdrive/My Drive/Cell Data/\" + index):\n",
        "    img_array = cv2.imread(\"/gdrive/My Drive/Cell Data/\" + index + \"/\" + img)\n",
        "    new_array = cv2.resize(img_array, (50, 50)) \n",
        "    if index == \"positivetrain\":\n",
        "      trainingdata.append([new_array, 1])\n",
        "    else:\n",
        "      trainingdata.append([new_array, 0])\n",
        "    "
      ],
      "execution_count": 0,
      "outputs": []
    },
    {
      "cell_type": "code",
      "metadata": {
        "id": "xb6TU5Nbvkc4",
        "colab_type": "code",
        "outputId": "81127280-4720-4ae2-a366-86e659f116be",
        "colab": {
          "base_uri": "https://localhost:8080/",
          "height": 34
        }
      },
      "source": [
        "import random\n",
        "print(len(trainingdata))\n",
        "random.shuffle(trainingdata)"
      ],
      "execution_count": 17,
      "outputs": [
        {
          "output_type": "stream",
          "text": [
            "264\n"
          ],
          "name": "stdout"
        }
      ]
    },
    {
      "cell_type": "code",
      "metadata": {
        "id": "bhc-_8_dvpm2",
        "colab_type": "code",
        "colab": {}
      },
      "source": [
        "import numpy as np\n",
        "data = []\n",
        "label = []\n",
        "\n",
        "for feature, labels in trainingdata:\n",
        "  data.append(feature)\n",
        "  label.append(labels)\n",
        "  \n",
        "data = np.array(data).reshape(-1, 50, 50, 3)\n",
        "data = data/255.0"
      ],
      "execution_count": 0,
      "outputs": []
    },
    {
      "cell_type": "code",
      "metadata": {
        "id": "XV8pgE7IyZPd",
        "colab_type": "code",
        "outputId": "115b9248-d7d5-48ab-8fb1-865b36ca36ec",
        "colab": {
          "base_uri": "https://localhost:8080/",
          "height": 51
        }
      },
      "source": [
        "print(len(data))\n",
        "print(len(label))"
      ],
      "execution_count": 22,
      "outputs": [
        {
          "output_type": "stream",
          "text": [
            "264\n",
            "264\n"
          ],
          "name": "stdout"
        }
      ]
    },
    {
      "cell_type": "code",
      "metadata": {
        "id": "rYiFEQg44P36",
        "colab_type": "code",
        "outputId": "2d9146ac-091b-4eba-d563-640d2f5b30ff",
        "colab": {
          "base_uri": "https://localhost:8080/",
          "height": 286
        }
      },
      "source": [
        "plt.imshow(data[0])\n",
        "plt.show()\n",
        "print(label[0])"
      ],
      "execution_count": 23,
      "outputs": [
        {
          "output_type": "display_data",
          "data": {
            "image/png": "[encoded data removed]",
            "text/plain": [
              "<Figure size 432x288 with 1 Axes>"
            ]
          },
          "metadata": {
            "tags": []
          }
        },
        {
          "output_type": "stream",
          "text": [
            "0\n"
          ],
          "name": "stdout"
        }
      ]
    },
    {
      "cell_type": "code",
      "metadata": {
        "id": "H24-x7c04TUt",
        "colab_type": "code",
        "colab": {}
      },
      "source": [
        "import keras\n",
        "from keras.layers import Dense, Conv2D\n",
        "from keras.layers import Flatten\n",
        "from keras.layers import MaxPooling2D\n",
        "from keras.layers import Activation\n",
        "from keras.layers import BatchNormalization\n",
        "from keras.layers import Dropout\n",
        "from keras.models import Sequential\n",
        "from keras import backend as K\n",
        "\n",
        "from keras import optimizers"
      ],
      "execution_count": 0,
      "outputs": []
    },
    {
      "cell_type": "code",
      "metadata": {
        "id": "iMmje2q7-9Ex",
        "colab_type": "code",
        "colab": {
          "base_uri": "https://localhost:8080/",
          "height": 1000
        },
        "outputId": "26aafbf6-cb93-4304-bc0d-e9cc665ed961"
      },
      "source": [
        "model = Sequential()\n",
        "\n",
        "model.add(Conv2D(64, (3, 3), input_shape=data.shape[1:]))\n",
        "model.add(Activation('relu'))\n",
        "model.add(MaxPooling2D(pool_size=(2, 2)))\n",
        "model.add(Dropout(0.2))\n",
        "\n",
        "model.add(Conv2D(128, (3, 3)))\n",
        "model.add(Activation('relu'))\n",
        "model.add(MaxPooling2D(pool_size=(2, 2)))\n",
        "model.add(Dropout(0.2))\n",
        "\n",
        "model.add(Conv2D(32, (3, 3)))\n",
        "model.add(Activation('relu'))\n",
        "model.add(MaxPooling2D(pool_size=(2, 2)))\n",
        "model.add(Dropout(0.2))\n",
        "\n",
        "model.add(Flatten())  \n",
        "\n",
        "model.add(Dense(512, activation = 'relu'))\n",
        "\n",
        "model.add(Dense(1))\n",
        "model.add(Activation('sigmoid'))\n",
        "\n",
        "model.compile(loss='binary_crossentropy',\n",
        "              optimizer='adam',\n",
        "              metrics=['accuracy'])\n",
        "\n",
        "model.fit(data, label, batch_size=32, epochs=40, validation_split=0.3)"
      ],
      "execution_count": 48,
      "outputs": [
        {
          "output_type": "stream",
          "text": [
            "Train on 184 samples, validate on 80 samples\n",
            "Epoch 1/40\n",
            "184/184 [==============================] - 3s 16ms/step - loss: 0.7033 - acc: 0.4837 - val_loss: 0.6879 - val_acc: 0.5375\n",
            "Epoch 2/40\n",
            "184/184 [==============================] - 0s 765us/step - loss: 0.6958 - acc: 0.5326 - val_loss: 0.6865 - val_acc: 0.6875\n",
            "Epoch 3/40\n",
            "184/184 [==============================] - 0s 770us/step - loss: 0.6841 - acc: 0.5217 - val_loss: 0.7035 - val_acc: 0.4500\n",
            "Epoch 4/40\n",
            "184/184 [==============================] - 0s 746us/step - loss: 0.6735 - acc: 0.5815 - val_loss: 0.6713 - val_acc: 0.5500\n",
            "Epoch 5/40\n",
            "184/184 [==============================] - 0s 776us/step - loss: 0.6359 - acc: 0.6793 - val_loss: 0.6266 - val_acc: 0.6375\n",
            "Epoch 6/40\n",
            "184/184 [==============================] - 0s 753us/step - loss: 0.5291 - acc: 0.8261 - val_loss: 0.6199 - val_acc: 0.6000\n",
            "Epoch 7/40\n",
            "184/184 [==============================] - 0s 781us/step - loss: 0.4427 - acc: 0.8315 - val_loss: 0.4233 - val_acc: 0.8500\n",
            "Epoch 8/40\n",
            "184/184 [==============================] - 0s 781us/step - loss: 0.3704 - acc: 0.8424 - val_loss: 0.2985 - val_acc: 0.9000\n",
            "Epoch 9/40\n",
            "184/184 [==============================] - 0s 764us/step - loss: 0.2025 - acc: 0.9402 - val_loss: 0.2178 - val_acc: 0.9250\n",
            "Epoch 10/40\n",
            "184/184 [==============================] - 0s 753us/step - loss: 0.1738 - acc: 0.9402 - val_loss: 0.4491 - val_acc: 0.7875\n",
            "Epoch 11/40\n",
            "184/184 [==============================] - 0s 790us/step - loss: 0.2944 - acc: 0.9022 - val_loss: 0.3408 - val_acc: 0.8500\n",
            "Epoch 12/40\n",
            "184/184 [==============================] - 0s 784us/step - loss: 0.3208 - acc: 0.8696 - val_loss: 0.4092 - val_acc: 0.7750\n",
            "Epoch 13/40\n",
            "184/184 [==============================] - 0s 778us/step - loss: 0.3079 - acc: 0.8641 - val_loss: 0.2871 - val_acc: 0.9375\n",
            "Epoch 14/40\n",
            "184/184 [==============================] - 0s 774us/step - loss: 0.2293 - acc: 0.9293 - val_loss: 0.2550 - val_acc: 0.9625\n",
            "Epoch 15/40\n",
            "184/184 [==============================] - 0s 753us/step - loss: 0.1865 - acc: 0.9565 - val_loss: 0.2702 - val_acc: 0.9000\n",
            "Epoch 16/40\n",
            "184/184 [==============================] - 0s 784us/step - loss: 0.1493 - acc: 0.9620 - val_loss: 0.2228 - val_acc: 0.9250\n",
            "Epoch 17/40\n",
            "184/184 [==============================] - 0s 753us/step - loss: 0.1239 - acc: 0.9674 - val_loss: 0.2937 - val_acc: 0.8875\n",
            "Epoch 18/40\n",
            "184/184 [==============================] - 0s 759us/step - loss: 0.1887 - acc: 0.9239 - val_loss: 0.1956 - val_acc: 0.9250\n",
            "Epoch 19/40\n",
            "184/184 [==============================] - 0s 771us/step - loss: 0.1268 - acc: 0.9620 - val_loss: 0.3446 - val_acc: 0.8750\n",
            "Epoch 20/40\n",
            "184/184 [==============================] - 0s 794us/step - loss: 0.1818 - acc: 0.9457 - val_loss: 0.1710 - val_acc: 0.9500\n",
            "Epoch 21/40\n",
            "184/184 [==============================] - 0s 767us/step - loss: 0.1224 - acc: 0.9565 - val_loss: 0.2047 - val_acc: 0.9375\n",
            "Epoch 22/40\n",
            "184/184 [==============================] - 0s 767us/step - loss: 0.1701 - acc: 0.9457 - val_loss: 0.6118 - val_acc: 0.7125\n",
            "Epoch 23/40\n",
            "184/184 [==============================] - 0s 770us/step - loss: 0.1987 - acc: 0.9239 - val_loss: 0.3326 - val_acc: 0.8375\n",
            "Epoch 24/40\n",
            "184/184 [==============================] - 0s 743us/step - loss: 0.1878 - acc: 0.9457 - val_loss: 0.1607 - val_acc: 0.9500\n",
            "Epoch 25/40\n",
            "184/184 [==============================] - 0s 741us/step - loss: 0.1057 - acc: 0.9674 - val_loss: 0.1568 - val_acc: 0.9750\n",
            "Epoch 26/40\n",
            "184/184 [==============================] - 0s 791us/step - loss: 0.1360 - acc: 0.9511 - val_loss: 0.1601 - val_acc: 0.9375\n",
            "Epoch 27/40\n",
            "184/184 [==============================] - 0s 747us/step - loss: 0.0915 - acc: 0.9728 - val_loss: 0.3125 - val_acc: 0.8750\n",
            "Epoch 28/40\n",
            "184/184 [==============================] - 0s 791us/step - loss: 0.1187 - acc: 0.9620 - val_loss: 0.1852 - val_acc: 0.9375\n",
            "Epoch 29/40\n",
            "184/184 [==============================] - 0s 753us/step - loss: 0.1019 - acc: 0.9783 - val_loss: 0.1922 - val_acc: 0.9250\n",
            "Epoch 30/40\n",
            "184/184 [==============================] - 0s 747us/step - loss: 0.0968 - acc: 0.9674 - val_loss: 0.1465 - val_acc: 0.9625\n",
            "Epoch 31/40\n",
            "184/184 [==============================] - 0s 778us/step - loss: 0.0890 - acc: 0.9674 - val_loss: 0.1533 - val_acc: 0.9500\n",
            "Epoch 32/40\n",
            "184/184 [==============================] - 0s 740us/step - loss: 0.0809 - acc: 0.9674 - val_loss: 0.1313 - val_acc: 0.9500\n",
            "Epoch 33/40\n",
            "184/184 [==============================] - 0s 749us/step - loss: 0.0997 - acc: 0.9728 - val_loss: 0.1375 - val_acc: 0.9750\n",
            "Epoch 34/40\n",
            "184/184 [==============================] - 0s 753us/step - loss: 0.0776 - acc: 0.9783 - val_loss: 0.1424 - val_acc: 0.9500\n",
            "Epoch 35/40\n",
            "184/184 [==============================] - 0s 775us/step - loss: 0.0747 - acc: 0.9783 - val_loss: 0.1654 - val_acc: 0.9000\n",
            "Epoch 36/40\n",
            "184/184 [==============================] - 0s 781us/step - loss: 0.0808 - acc: 0.9783 - val_loss: 0.1718 - val_acc: 0.8875\n",
            "Epoch 37/40\n",
            "184/184 [==============================] - 0s 808us/step - loss: 0.0795 - acc: 0.9728 - val_loss: 0.2181 - val_acc: 0.9250\n",
            "Epoch 38/40\n",
            "184/184 [==============================] - 0s 759us/step - loss: 0.0612 - acc: 0.9837 - val_loss: 0.1394 - val_acc: 0.9625\n",
            "Epoch 39/40\n",
            "184/184 [==============================] - 0s 779us/step - loss: 0.0554 - acc: 0.9728 - val_loss: 0.2218 - val_acc: 0.9000\n",
            "Epoch 40/40\n",
            "184/184 [==============================] - 0s 734us/step - loss: 0.0456 - acc: 0.9891 - val_loss: 0.2796 - val_acc: 0.9250\n"
          ],
          "name": "stdout"
        },
        {
          "output_type": "execute_result",
          "data": {
            "text/plain": [
              "<keras.callbacks.History at 0x7f7fc7208828>"
            ]
          },
          "metadata": {
            "tags": []
          },
          "execution_count": 48
        }
      ]
    },
    {
      "cell_type": "code",
      "metadata": {
        "id": "A1N9fMmW-9OM",
        "colab_type": "code",
        "colab": {}
      },
      "source": [
        ""
      ],
      "execution_count": 0,
      "outputs": []
    },
    {
      "cell_type": "code",
      "metadata": {
        "id": "vC-SoLrl-9WB",
        "colab_type": "code",
        "colab": {}
      },
      "source": [
        ""
      ],
      "execution_count": 0,
      "outputs": []
    }
  ]
}